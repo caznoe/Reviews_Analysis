{
 "cells": [
  {
   "cell_type": "code",
   "execution_count": 1,
   "metadata": {
    "cellView": "both",
    "colab": {
     "base_uri": "https://localhost:8080/",
     "height": 340
    },
    "colab_type": "code",
    "executionInfo": {
     "elapsed": 54391,
     "status": "ok",
     "timestamp": 1600579597445,
     "user": {
      "displayName": "Catie Aznoe",
      "photoUrl": "https://lh3.googleusercontent.com/a-/AOh14Gh4BBdbbgd8vf12rxJpg5MMmE_GVCa4ucNWBnAh=s64",
      "userId": "03339423933263314979"
     },
     "user_tz": -180
    },
    "id": "vbfGYlvIcNEL",
    "outputId": "7e53418b-295f-4823-cef7-aa3debc85ac8"
   },
   "outputs": [
    {
     "name": "stdout",
     "output_type": "stream",
     "text": [
      "Get:1 https://cloud.r-project.org/bin/linux/ubuntu bionic-cran35/ InRelease [3,626 B]\n",
      "Ign:2 https://developer.download.nvidia.com/compute/cuda/repos/ubuntu1804/x86_64  InRelease\n",
      "Ign:3 https://developer.download.nvidia.com/compute/machine-learning/repos/ubuntu1804/x86_64  InRelease\n",
      "Hit:4 https://developer.download.nvidia.com/compute/cuda/repos/ubuntu1804/x86_64  Release\n",
      "Hit:5 https://developer.download.nvidia.com/compute/machine-learning/repos/ubuntu1804/x86_64  Release\n",
      "Hit:6 http://ppa.launchpad.net/graphics-drivers/ppa/ubuntu bionic InRelease\n",
      "Hit:8 http://archive.ubuntu.com/ubuntu bionic InRelease\n",
      "Get:9 http://security.ubuntu.com/ubuntu bionic-security InRelease [88.7 kB]\n",
      "Get:11 http://archive.ubuntu.com/ubuntu bionic-updates InRelease [88.7 kB]\n",
      "Get:12 http://ppa.launchpad.net/marutter/c2d4u3.5/ubuntu bionic InRelease [15.4 kB]\n",
      "Get:13 http://archive.ubuntu.com/ubuntu bionic-backports InRelease [74.6 kB]\n",
      "Get:14 http://security.ubuntu.com/ubuntu bionic-security/universe amd64 Packages [903 kB]\n",
      "Get:15 http://ppa.launchpad.net/marutter/c2d4u3.5/ubuntu bionic/main Sources [1,876 kB]\n",
      "Get:16 http://archive.ubuntu.com/ubuntu bionic-updates/main amd64 Packages [1,385 kB]\n",
      "Get:17 http://security.ubuntu.com/ubuntu bionic-security/main amd64 Packages [1,094 kB]\n",
      "Get:18 http://archive.ubuntu.com/ubuntu bionic-updates/universe amd64 Packages [1,430 kB]\n",
      "Get:19 http://ppa.launchpad.net/marutter/c2d4u3.5/ubuntu bionic/main amd64 Packages [906 kB]\n",
      "Fetched 7,866 kB in 6s (1,405 kB/s)\n",
      "Reading package lists... Done\n"
     ]
    }
   ],
   "source": [
    "#@title\n",
    "# Install Java, Spark, and Findspark\n",
    "!apt-get update\n",
    "!apt-get install openjdk-8-jdk-headless -qq > /dev/null\n",
    "!wget -q http://www-us.apache.org/dist/spark/spark-3.0.1/spark-3.0.1-bin-hadoop2.7.tgz\n",
    "!tar xf spark-3.0.1-bin-hadoop2.7.tgz\n",
    "!pip install -q findspark\n",
    "\n",
    "# Set Environment Variables\n",
    "import os\n",
    "os.environ[\"JAVA_HOME\"] = \"/usr/lib/jvm/java-8-openjdk-amd64\"\n",
    "os.environ[\"SPARK_HOME\"] = \"/content/spark-3.0.1-bin-hadoop2.7\"\n",
    "\n",
    "# Start a SparkSession\n",
    "import findspark\n",
    "findspark.init()"
   ]
  },
  {
   "cell_type": "code",
   "execution_count": 2,
   "metadata": {
    "colab": {
     "base_uri": "https://localhost:8080/",
     "height": 204
    },
    "colab_type": "code",
    "executionInfo": {
     "elapsed": 2483,
     "status": "ok",
     "timestamp": 1600579646176,
     "user": {
      "displayName": "Catie Aznoe",
      "photoUrl": "https://lh3.googleusercontent.com/a-/AOh14Gh4BBdbbgd8vf12rxJpg5MMmE_GVCa4ucNWBnAh=s64",
      "userId": "03339423933263314979"
     },
     "user_tz": -180
    },
    "id": "45jwtTBJ-x0Y",
    "outputId": "9c7b94cc-fec1-4a3e-d3ae-b327a1edd9ed"
   },
   "outputs": [
    {
     "name": "stdout",
     "output_type": "stream",
     "text": [
      "--2020-09-20 05:27:24--  https://jdbc.postgresql.org/download/postgresql-42.2.9.jar\n",
      "Resolving jdbc.postgresql.org (jdbc.postgresql.org)... 72.32.157.228, 2001:4800:3e1:1::228\n",
      "Connecting to jdbc.postgresql.org (jdbc.postgresql.org)|72.32.157.228|:443... connected.\n",
      "HTTP request sent, awaiting response... 200 OK\n",
      "Length: 914037 (893K) [application/java-archive]\n",
      "Saving to: ‘postgresql-42.2.9.jar’\n",
      "\n",
      "postgresql-42.2.9.j 100%[===================>] 892.61K  1.05MB/s    in 0.8s    \n",
      "\n",
      "2020-09-20 05:27:25 (1.05 MB/s) - ‘postgresql-42.2.9.jar’ saved [914037/914037]\n",
      "\n"
     ]
    }
   ],
   "source": [
    "!wget https://jdbc.postgresql.org/download/postgresql-42.2.9.jar"
   ]
  },
  {
   "cell_type": "code",
   "execution_count": 3,
   "metadata": {
    "colab": {},
    "colab_type": "code",
    "executionInfo": {
     "elapsed": 7475,
     "status": "ok",
     "timestamp": 1600579699937,
     "user": {
      "displayName": "Catie Aznoe",
      "photoUrl": "https://lh3.googleusercontent.com/a-/AOh14Gh4BBdbbgd8vf12rxJpg5MMmE_GVCa4ucNWBnAh=s64",
      "userId": "03339423933263314979"
     },
     "user_tz": -180
    },
    "id": "NUJ1-Yiccibp"
   },
   "outputs": [],
   "source": [
    "# Start Spark Session\n",
    "from pyspark.sql import SparkSession\n",
    "spark = SparkSession.builder.appName(\"CloudETL\").config(\"spark.driver.extraClassPath\",\"/content/postgresql-42.2.9.jar\").getOrCreate()"
   ]
  },
  {
   "cell_type": "code",
   "execution_count": 5,
   "metadata": {
    "colab": {
     "base_uri": "https://localhost:8080/",
     "height": 479
    },
    "colab_type": "code",
    "executionInfo": {
     "elapsed": 13999,
     "status": "ok",
     "timestamp": 1600582147799,
     "user": {
      "displayName": "Catie Aznoe",
      "photoUrl": "https://lh3.googleusercontent.com/a-/AOh14Gh4BBdbbgd8vf12rxJpg5MMmE_GVCa4ucNWBnAh=s64",
      "userId": "03339423933263314979"
     },
     "user_tz": -180
    },
    "id": "6glE5sDrA9J5",
    "outputId": "08fb0d14-8cd0-48ba-8278-d48a213f5e25"
   },
   "outputs": [
    {
     "name": "stdout",
     "output_type": "stream",
     "text": [
      "+-----------+-----------+--------------+----------+--------------+--------------------+----------------+-----------+-------------+-----------+----+-----------------+--------------------+--------------------+-----------+\n",
      "|marketplace|customer_id|     review_id|product_id|product_parent|       product_title|product_category|star_rating|helpful_votes|total_votes|vine|verified_purchase|     review_headline|         review_body|review_date|\n",
      "+-----------+-----------+--------------+----------+--------------+--------------------+----------------+-----------+-------------+-----------+----+-----------------+--------------------+--------------------+-----------+\n",
      "|         US|   40884699| R9CO86UUJCAW5|B00VGTN02Y|     786681372|Teenage Mutant Ni...|         Luggage|          3|            0|          0|   N|                Y|my review of this...|my review of this...| 2015-08-31|\n",
      "|         US|   23208852|R3PR8X6QGVJ8B1|B005KIWL0E|     618251799|Kenneth Cole Reac...|         Luggage|          5|            0|          0|   N|                Y|          Five Stars|       Perfect size.| 2015-08-31|\n",
      "|         US|   17100246|R39BO2819ABUPF|B007UNSHJ6|     810480328|American Touriste...|         Luggage|          4|            0|          0|   N|                Y|            so good.|    So far, so good.| 2015-08-31|\n",
      "|         US|   13533670|R3ADL7V6EGGEEP|B00WHFNXB4|      20765193|15.5 Inch Purple ...|         Luggage|          4|            0|          0|   N|                Y|          Four Stars|seems nicely made...| 2015-08-31|\n",
      "|         US|   38541771|R1OXYPBPLVRMI5|B000M5NBYU|     812890709|Port & Company Zi...|         Luggage|          5|            0|          0|   N|                Y|           Dance Bag|Great bag for all...| 2015-08-31|\n",
      "|         US|   12686499|R1WYM8Z5ATQ98O|B00ACBJ89G|     624906499|J World New York ...|         Luggage|          3|            0|          0|   N|                Y|        TOO SMALL!!!|it´s nice BUT it´...| 2015-08-31|\n",
      "|         US|   27767206|R3LCIANTN1H9EC|B001H4BQ1A|     385044506|Voltage Valet Clo...|         Luggage|          4|            1|          1|   N|                Y|          Four Stars|It does the job b...| 2015-08-31|\n",
      "|         US|   46630606|R3U2M23N1P0KQ6|B00ESG6NDK|      51297652|Pro Packing Cubes...|         Luggage|          5|            0|          0|   N|                Y|          Five Stars|          Just fine.| 2015-08-31|\n",
      "|         US|   41622754|R29MB6N7HB6NZI|B00M14SAXC|     832113872|Girl's Dance Duff...|         Luggage|          1|            2|          2|   N|                Y|We were exited to...|We were exited to...| 2015-08-31|\n",
      "|         US|   15296380| RGEQ6DGRG7DQG|B012PC5QAY|     490793867|Disney Inside Out...|         Luggage|          5|            0|          0|   N|                Y|               cute!|Very nice and we'...| 2015-08-31|\n",
      "|         US|   21206415|R38HNH0BSS2KFE|B00VWKWWMG|     356411837|World Traveler 13...|         Luggage|          1|            1|          1|   N|                Y|            One Star|Brought it on vac...| 2015-08-31|\n",
      "|         US|   34554097|R2CATRM9CH59LY|B00N2U14UK|     326835930|Sherpani Trevia C...|         Luggage|          5|            4|          4|   N|                Y|A great bag for t...|I purchased this ...| 2015-08-31|\n",
      "|         US|   42252567|R18DMKNDPJ1BSN|B00K4F45CA|     954517686|Rockland Luggage ...|         Luggage|          5|            0|          1|   N|                Y|             Perfect|Love this light w...| 2015-08-31|\n",
      "|         US|    3532342| RZRSHBWXO3XUQ|B00U57FFA8|      98867907|Allant 16\" Padded...|         Luggage|          5|            0|          0|   N|                Y|it's durable and ...|Purchased this ba...| 2015-08-31|\n",
      "|         US|    7791634|R1BMTNSYCZY1NI|B00ROSRFQ8|     648371973|Polare Manly Real...|         Luggage|          3|            1|          1|   N|                Y|Strong well-made ...|I've had this bag...| 2015-08-31|\n",
      "|         US|    9911099| RPE2S0HZQ9EFP|B003ZV71BM|     406795103|American Flyer Lu...|         Luggage|          5|            0|          0|   N|                Y|          Five Stars|Love love love my...| 2015-08-31|\n",
      "|         US|   46124918|R2OOWJSFPDDA03|B00NJYB2JM|     255715129|Victoriatourist V...|         Luggage|          3|            0|          1|   N|                Y|         Three Stars|Smaller than expe...| 2015-08-31|\n",
      "|         US|     200537|R3EED64ZPXGZ92|B00LD0A4N4|     244117760|EcoCity Vintage C...|         Luggage|          3|            0|          0|   N|                Y|         Three Stars|Within the first ...| 2015-08-31|\n",
      "|         US|    1403856|R1BI8NF6YRH5HD|B00N5GVF6O|     626808161|Bolang Water Resi...|         Luggage|          5|            0|          0|   N|                Y|     Laptop backpack|Nice nice sturdy ...| 2015-08-31|\n",
      "|         US|    8201781| RUD7SDRQTAVMC|B00C75KZPQ|     176437087|Travelon Cosmetic...|         Luggage|          5|            0|          0|   N|                Y|           Fabulous!|Fabulous! Can use...| 2015-08-31|\n",
      "+-----------+-----------+--------------+----------+--------------+--------------------+----------------+-----------+-------------+-----------+----+-----------------+--------------------+--------------------+-----------+\n",
      "only showing top 20 rows\n",
      "\n"
     ]
    }
   ],
   "source": [
    "# Read in data from S3 Buckets\n",
    "from pyspark import SparkFiles\n",
    "url =\"https://s3.amazonaws.com/amazon-reviews-pds/tsv/amazon_reviews_us_Luggage_v1_00.tsv.gz\"\n",
    "spark.sparkContext.addFile(url)\n",
    "df = spark.read.csv(SparkFiles.get(\"amazon_reviews_us_Luggage_v1_00.tsv.gz\"), sep=\"\\t\", header=True)\n",
    "\n",
    "# Show DataFrame\n",
    "df.show()"
   ]
  },
  {
   "cell_type": "code",
   "execution_count": 6,
   "metadata": {
    "colab": {
     "base_uri": "https://localhost:8080/",
     "height": 34
    },
    "colab_type": "code",
    "executionInfo": {
     "elapsed": 3625,
     "status": "ok",
     "timestamp": 1600582248623,
     "user": {
      "displayName": "Catie Aznoe",
      "photoUrl": "https://lh3.googleusercontent.com/a-/AOh14Gh4BBdbbgd8vf12rxJpg5MMmE_GVCa4ucNWBnAh=s64",
      "userId": "03339423933263314979"
     },
     "user_tz": -180
    },
    "id": "hTwbZ_mlIkb8",
    "outputId": "8034a3f7-3c5d-4247-ede0-366cd2f89cc9"
   },
   "outputs": [
    {
     "data": {
      "text/plain": [
       "348657"
      ]
     },
     "execution_count": 6,
     "metadata": {
      "tags": []
     },
     "output_type": "execute_result"
    }
   ],
   "source": [
    "# Count number of rows in dataframe\n",
    "df.count()"
   ]
  },
  {
   "cell_type": "code",
   "execution_count": 7,
   "metadata": {
    "colab": {},
    "colab_type": "code",
    "executionInfo": {
     "elapsed": 1007,
     "status": "ok",
     "timestamp": 1600582658807,
     "user": {
      "displayName": "Catie Aznoe",
      "photoUrl": "https://lh3.googleusercontent.com/a-/AOh14Gh4BBdbbgd8vf12rxJpg5MMmE_GVCa4ucNWBnAh=s64",
      "userId": "03339423933263314979"
     },
     "user_tz": -180
    },
    "id": "PhA2y-ZDJl8r"
   },
   "outputs": [],
   "source": [
    "# Drop duplicate rows\n",
    "cleaned_df = df.dropDuplicates()"
   ]
  },
  {
   "cell_type": "code",
   "execution_count": 8,
   "metadata": {
    "colab": {
     "base_uri": "https://localhost:8080/",
     "height": 34
    },
    "colab_type": "code",
    "executionInfo": {
     "elapsed": 14533,
     "status": "ok",
     "timestamp": 1600582725846,
     "user": {
      "displayName": "Catie Aznoe",
      "photoUrl": "https://lh3.googleusercontent.com/a-/AOh14Gh4BBdbbgd8vf12rxJpg5MMmE_GVCa4ucNWBnAh=s64",
      "userId": "03339423933263314979"
     },
     "user_tz": -180
    },
    "id": "4Y9A9Y9rKYA_",
    "outputId": "99c7d951-3e9a-4b2b-9d63-104960916dae"
   },
   "outputs": [
    {
     "data": {
      "text/plain": [
       "348657"
      ]
     },
     "execution_count": 8,
     "metadata": {
      "tags": []
     },
     "output_type": "execute_result"
    }
   ],
   "source": [
    "# Count number of rows\n",
    "cleaned_df.count()"
   ]
  },
  {
   "cell_type": "code",
   "execution_count": 10,
   "metadata": {
    "colab": {
     "base_uri": "https://localhost:8080/",
     "height": 272
    },
    "colab_type": "code",
    "executionInfo": {
     "elapsed": 1440,
     "status": "ok",
     "timestamp": 1600583142474,
     "user": {
      "displayName": "Catie Aznoe",
      "photoUrl": "https://lh3.googleusercontent.com/a-/AOh14Gh4BBdbbgd8vf12rxJpg5MMmE_GVCa4ucNWBnAh=s64",
      "userId": "03339423933263314979"
     },
     "user_tz": -180
    },
    "id": "Ps1YP9jvLUtU",
    "outputId": "c041aa37-0017-461a-e2d3-f3aa6543e968"
   },
   "outputs": [
    {
     "data": {
      "text/plain": [
       "[('marketplace', 'string'),\n",
       " ('customer_id', 'string'),\n",
       " ('review_id', 'string'),\n",
       " ('product_id', 'string'),\n",
       " ('product_parent', 'string'),\n",
       " ('product_title', 'string'),\n",
       " ('product_category', 'string'),\n",
       " ('star_rating', 'string'),\n",
       " ('helpful_votes', 'string'),\n",
       " ('total_votes', 'string'),\n",
       " ('vine', 'string'),\n",
       " ('verified_purchase', 'string'),\n",
       " ('review_headline', 'string'),\n",
       " ('review_body', 'string'),\n",
       " ('review_date', 'string')]"
      ]
     },
     "execution_count": 10,
     "metadata": {
      "tags": []
     },
     "output_type": "execute_result"
    }
   ],
   "source": [
    "# Check column types\n",
    "cleaned_df.dtypes\n"
   ]
  },
  {
   "cell_type": "code",
   "execution_count": 38,
   "metadata": {
    "colab": {},
    "colab_type": "code",
    "executionInfo": {
     "elapsed": 972,
     "status": "ok",
     "timestamp": 1600592177535,
     "user": {
      "displayName": "Catie Aznoe",
      "photoUrl": "https://lh3.googleusercontent.com/a-/AOh14Gh4BBdbbgd8vf12rxJpg5MMmE_GVCa4ucNWBnAh=s64",
      "userId": "03339423933263314979"
     },
     "user_tz": -180
    },
    "id": "1vCbRY-Aspyq"
   },
   "outputs": [],
   "source": [
    "# Import struct fields that we can use\n",
    "from pyspark.sql.types import StructField, StringType, IntegerType, StructType, DateType"
   ]
  },
  {
   "cell_type": "code",
   "execution_count": 39,
   "metadata": {
    "colab": {
     "base_uri": "https://localhost:8080/",
     "height": 272
    },
    "colab_type": "code",
    "executionInfo": {
     "elapsed": 1014,
     "status": "ok",
     "timestamp": 1600592384743,
     "user": {
      "displayName": "Catie Aznoe",
      "photoUrl": "https://lh3.googleusercontent.com/a-/AOh14Gh4BBdbbgd8vf12rxJpg5MMmE_GVCa4ucNWBnAh=s64",
      "userId": "03339423933263314979"
     },
     "user_tz": -180
    },
    "id": "iuL5pNR9ssIu",
    "outputId": "edde8e69-f784-4dff-86ab-cda4d346ba77"
   },
   "outputs": [
    {
     "data": {
      "text/plain": [
       "[StructField(marketplace,StringType,true),\n",
       " StructField(customer_id,IntegerType,true),\n",
       " StructField(review_id,StringType,true),\n",
       " StructField(product_id,StringType,true),\n",
       " StructField(product_parent,IntegerType,true),\n",
       " StructField(product_title,StringType,true),\n",
       " StructField(product_category,StringType,true),\n",
       " StructField(star_rating,IntegerType,true),\n",
       " StructField(helpful_votes,IntegerType,true),\n",
       " StructField(total_votes,IntegerType,true),\n",
       " StructField(vine,StringType,true),\n",
       " StructField(verified_purchase,StringType,true),\n",
       " StructField(review_headline,StringType,true),\n",
       " StructField(review_body,StringType,true),\n",
       " StructField(review_date,DateType,true)]"
      ]
     },
     "execution_count": 39,
     "metadata": {
      "tags": []
     },
     "output_type": "execute_result"
    }
   ],
   "source": [
    "# Next we need to create the list of struct fields\n",
    "schema = [StructField(\"marketplace\", StringType(), True), StructField(\"customer_id\", IntegerType(), True), StructField(\"review_id\", StringType(), True), StructField(\"product_id\", StringType(), True), StructField(\"product_parent\", IntegerType(), True), StructField(\"product_title\", StringType(), True), StructField(\"product_category\", StringType(), True), StructField(\"star_rating\", IntegerType(), True), StructField(\"helpful_votes\", IntegerType(), True), StructField(\"total_votes\", IntegerType(), True), StructField(\"vine\", StringType(), True), StructField(\"verified_purchase\", StringType(), True), StructField(\"review_headline\", StringType(), True), StructField(\"review_body\", StringType(), True), StructField(\"review_date\", DateType(), True)]\n",
    "schema\n"
   ]
  },
  {
   "cell_type": "code",
   "execution_count": 40,
   "metadata": {
    "colab": {
     "base_uri": "https://localhost:8080/",
     "height": 54
    },
    "colab_type": "code",
    "executionInfo": {
     "elapsed": 1097,
     "status": "ok",
     "timestamp": 1600592423222,
     "user": {
      "displayName": "Catie Aznoe",
      "photoUrl": "https://lh3.googleusercontent.com/a-/AOh14Gh4BBdbbgd8vf12rxJpg5MMmE_GVCa4ucNWBnAh=s64",
      "userId": "03339423933263314979"
     },
     "user_tz": -180
    },
    "id": "Ka8Unns7vhwO",
    "outputId": "6f74fae7-fa4e-41c3-c58b-723da5148a3e"
   },
   "outputs": [
    {
     "data": {
      "text/plain": [
       "StructType(List(StructField(marketplace,StringType,true),StructField(customer_id,IntegerType,true),StructField(review_id,StringType,true),StructField(product_id,StringType,true),StructField(product_parent,IntegerType,true),StructField(product_title,StringType,true),StructField(product_category,StringType,true),StructField(star_rating,IntegerType,true),StructField(helpful_votes,IntegerType,true),StructField(total_votes,IntegerType,true),StructField(vine,StringType,true),StructField(verified_purchase,StringType,true),StructField(review_headline,StringType,true),StructField(review_body,StringType,true),StructField(review_date,DateType,true)))"
      ]
     },
     "execution_count": 40,
     "metadata": {
      "tags": []
     },
     "output_type": "execute_result"
    }
   ],
   "source": [
    "# Pass in our fields\n",
    "final = StructType(fields=schema)\n",
    "final"
   ]
  },
  {
   "cell_type": "code",
   "execution_count": 41,
   "metadata": {
    "colab": {
     "base_uri": "https://localhost:8080/",
     "height": 479
    },
    "colab_type": "code",
    "executionInfo": {
     "elapsed": 1190,
     "status": "ok",
     "timestamp": 1600592526036,
     "user": {
      "displayName": "Catie Aznoe",
      "photoUrl": "https://lh3.googleusercontent.com/a-/AOh14Gh4BBdbbgd8vf12rxJpg5MMmE_GVCa4ucNWBnAh=s64",
      "userId": "03339423933263314979"
     },
     "user_tz": -180
    },
    "id": "cSmChfjgvyRb",
    "outputId": "c9264862-7a3c-4591-adc9-dcf135eda119"
   },
   "outputs": [
    {
     "name": "stdout",
     "output_type": "stream",
     "text": [
      "+-----------+-----------+--------------+----------+--------------+--------------------+----------------+-----------+-------------+-----------+----+-----------------+--------------------+--------------------+-----------+\n",
      "|marketplace|customer_id|     review_id|product_id|product_parent|       product_title|product_category|star_rating|helpful_votes|total_votes|vine|verified_purchase|     review_headline|         review_body|review_date|\n",
      "+-----------+-----------+--------------+----------+--------------+--------------------+----------------+-----------+-------------+-----------+----+-----------------+--------------------+--------------------+-----------+\n",
      "|         US|   40884699| R9CO86UUJCAW5|B00VGTN02Y|     786681372|Teenage Mutant Ni...|         Luggage|          3|            0|          0|   N|                Y|my review of this...|my review of this...| 2015-08-31|\n",
      "|         US|   23208852|R3PR8X6QGVJ8B1|B005KIWL0E|     618251799|Kenneth Cole Reac...|         Luggage|          5|            0|          0|   N|                Y|          Five Stars|       Perfect size.| 2015-08-31|\n",
      "|         US|   17100246|R39BO2819ABUPF|B007UNSHJ6|     810480328|American Touriste...|         Luggage|          4|            0|          0|   N|                Y|            so good.|    So far, so good.| 2015-08-31|\n",
      "|         US|   13533670|R3ADL7V6EGGEEP|B00WHFNXB4|      20765193|15.5 Inch Purple ...|         Luggage|          4|            0|          0|   N|                Y|          Four Stars|seems nicely made...| 2015-08-31|\n",
      "|         US|   38541771|R1OXYPBPLVRMI5|B000M5NBYU|     812890709|Port & Company Zi...|         Luggage|          5|            0|          0|   N|                Y|           Dance Bag|Great bag for all...| 2015-08-31|\n",
      "|         US|   12686499|R1WYM8Z5ATQ98O|B00ACBJ89G|     624906499|J World New York ...|         Luggage|          3|            0|          0|   N|                Y|        TOO SMALL!!!|it´s nice BUT it´...| 2015-08-31|\n",
      "|         US|   27767206|R3LCIANTN1H9EC|B001H4BQ1A|     385044506|Voltage Valet Clo...|         Luggage|          4|            1|          1|   N|                Y|          Four Stars|It does the job b...| 2015-08-31|\n",
      "|         US|   46630606|R3U2M23N1P0KQ6|B00ESG6NDK|      51297652|Pro Packing Cubes...|         Luggage|          5|            0|          0|   N|                Y|          Five Stars|          Just fine.| 2015-08-31|\n",
      "|         US|   41622754|R29MB6N7HB6NZI|B00M14SAXC|     832113872|Girl's Dance Duff...|         Luggage|          1|            2|          2|   N|                Y|We were exited to...|We were exited to...| 2015-08-31|\n",
      "|         US|   15296380| RGEQ6DGRG7DQG|B012PC5QAY|     490793867|Disney Inside Out...|         Luggage|          5|            0|          0|   N|                Y|               cute!|Very nice and we'...| 2015-08-31|\n",
      "|         US|   21206415|R38HNH0BSS2KFE|B00VWKWWMG|     356411837|World Traveler 13...|         Luggage|          1|            1|          1|   N|                Y|            One Star|Brought it on vac...| 2015-08-31|\n",
      "|         US|   34554097|R2CATRM9CH59LY|B00N2U14UK|     326835930|Sherpani Trevia C...|         Luggage|          5|            4|          4|   N|                Y|A great bag for t...|I purchased this ...| 2015-08-31|\n",
      "|         US|   42252567|R18DMKNDPJ1BSN|B00K4F45CA|     954517686|Rockland Luggage ...|         Luggage|          5|            0|          1|   N|                Y|             Perfect|Love this light w...| 2015-08-31|\n",
      "|         US|    3532342| RZRSHBWXO3XUQ|B00U57FFA8|      98867907|Allant 16\" Padded...|         Luggage|          5|            0|          0|   N|                Y|it's durable and ...|Purchased this ba...| 2015-08-31|\n",
      "|         US|    7791634|R1BMTNSYCZY1NI|B00ROSRFQ8|     648371973|Polare Manly Real...|         Luggage|          3|            1|          1|   N|                Y|Strong well-made ...|I've had this bag...| 2015-08-31|\n",
      "|         US|    9911099| RPE2S0HZQ9EFP|B003ZV71BM|     406795103|American Flyer Lu...|         Luggage|          5|            0|          0|   N|                Y|          Five Stars|Love love love my...| 2015-08-31|\n",
      "|         US|   46124918|R2OOWJSFPDDA03|B00NJYB2JM|     255715129|Victoriatourist V...|         Luggage|          3|            0|          1|   N|                Y|         Three Stars|Smaller than expe...| 2015-08-31|\n",
      "|         US|     200537|R3EED64ZPXGZ92|B00LD0A4N4|     244117760|EcoCity Vintage C...|         Luggage|          3|            0|          0|   N|                Y|         Three Stars|Within the first ...| 2015-08-31|\n",
      "|         US|    1403856|R1BI8NF6YRH5HD|B00N5GVF6O|     626808161|Bolang Water Resi...|         Luggage|          5|            0|          0|   N|                Y|     Laptop backpack|Nice nice sturdy ...| 2015-08-31|\n",
      "|         US|    8201781| RUD7SDRQTAVMC|B00C75KZPQ|     176437087|Travelon Cosmetic...|         Luggage|          5|            0|          0|   N|                Y|           Fabulous!|Fabulous! Can use...| 2015-08-31|\n",
      "+-----------+-----------+--------------+----------+--------------+--------------------+----------------+-----------+-------------+-----------+----+-----------------+--------------------+--------------------+-----------+\n",
      "only showing top 20 rows\n",
      "\n"
     ]
    }
   ],
   "source": [
    "# Read in data from S3 Buckets\n",
    "from pyspark import SparkFiles\n",
    "url =\"https://s3.amazonaws.com/amazon-reviews-pds/tsv/amazon_reviews_us_Luggage_v1_00.tsv.gz\"\n",
    "spark.sparkContext.addFile(url)\n",
    "df = spark.read.csv(SparkFiles.get(\"amazon_reviews_us_Luggage_v1_00.tsv.gz\"), schema=final, sep=\"\\t\", header=True)\n",
    "\n",
    "# Show DataFrame\n",
    "df.show()"
   ]
  },
  {
   "cell_type": "code",
   "execution_count": 42,
   "metadata": {
    "colab": {},
    "colab_type": "code",
    "executionInfo": {
     "elapsed": 1020,
     "status": "ok",
     "timestamp": 1600592556776,
     "user": {
      "displayName": "Catie Aznoe",
      "photoUrl": "https://lh3.googleusercontent.com/a-/AOh14Gh4BBdbbgd8vf12rxJpg5MMmE_GVCa4ucNWBnAh=s64",
      "userId": "03339423933263314979"
     },
     "user_tz": -180
    },
    "id": "M4dzdvcov9Yh"
   },
   "outputs": [],
   "source": [
    "# Drop duplicate rows\n",
    "cleaned_df = df.dropDuplicates()"
   ]
  },
  {
   "cell_type": "code",
   "execution_count": 43,
   "metadata": {
    "colab": {
     "base_uri": "https://localhost:8080/",
     "height": 34
    },
    "colab_type": "code",
    "executionInfo": {
     "elapsed": 11580,
     "status": "ok",
     "timestamp": 1600592585442,
     "user": {
      "displayName": "Catie Aznoe",
      "photoUrl": "https://lh3.googleusercontent.com/a-/AOh14Gh4BBdbbgd8vf12rxJpg5MMmE_GVCa4ucNWBnAh=s64",
      "userId": "03339423933263314979"
     },
     "user_tz": -180
    },
    "id": "1Bgt_tQgwEUc",
    "outputId": "debfdb1b-01be-4758-b7a4-27c9d57c7568"
   },
   "outputs": [
    {
     "data": {
      "text/plain": [
       "348657"
      ]
     },
     "execution_count": 43,
     "metadata": {
      "tags": []
     },
     "output_type": "execute_result"
    }
   ],
   "source": [
    "# Count number of rows\n",
    "cleaned_df.count()"
   ]
  },
  {
   "cell_type": "code",
   "execution_count": 44,
   "metadata": {
    "colab": {
     "base_uri": "https://localhost:8080/",
     "height": 459
    },
    "colab_type": "code",
    "executionInfo": {
     "elapsed": 7435,
     "status": "ok",
     "timestamp": 1600592597119,
     "user": {
      "displayName": "Catie Aznoe",
      "photoUrl": "https://lh3.googleusercontent.com/a-/AOh14Gh4BBdbbgd8vf12rxJpg5MMmE_GVCa4ucNWBnAh=s64",
      "userId": "03339423933263314979"
     },
     "user_tz": -180
    },
    "id": "FATujf4IOqJ5",
    "outputId": "074b3a48-00ed-424a-879e-0caad5b5b683"
   },
   "outputs": [
    {
     "name": "stdout",
     "output_type": "stream",
     "text": [
      "+--------------+-----------+----------+--------------+-----------+\n",
      "|     review_id|customer_id|product_id|product_parent|review_date|\n",
      "+--------------+-----------+----------+--------------+-----------+\n",
      "|R11IBSD5E6HPSD|   20761040|B002B3FWXY|     677901073| 2015-08-31|\n",
      "|R16F6MZAVR1IYL|   29442013|B000YB7T04|     553070376| 2015-08-31|\n",
      "|R30889FXLP48F3|   29849475|B00F9KE912|     918753137| 2015-08-30|\n",
      "|R1DW06GLTNCVWQ|    1988134|B001CDG7Q0|     460451174| 2015-08-29|\n",
      "| RDC197RTSTZJY|    1302634|B0019GAOO6|      53787504| 2015-08-29|\n",
      "|R3D44CQ92OA3BR|   26953574|B00YGDX2XE|     613329783| 2015-08-29|\n",
      "|R115NO9WEEUBWD|   38639848|B00KH5FB5W|     684605802| 2015-08-28|\n",
      "|R16QUOK50Y94JU|    8004704|B00JKJQJHA|     860629696| 2015-08-28|\n",
      "| R1P81BC6VL7PZ|     121815|B00WJJVXQU|     990303407| 2015-08-28|\n",
      "| RZZLHN9MWIAEJ|   48578265|B006GN4ERU|     333298218| 2015-08-28|\n",
      "|R1A75HAI9Q04WV|    1211291|B00Z9NV81I|      63474760| 2015-08-27|\n",
      "|R1PCHIM41UIET7|   32335114|B001TQTWGW|     293242998| 2015-08-27|\n",
      "|R2S1PWOTIMYQ29|   19058299|B009AZ69V0|     899960867| 2015-08-27|\n",
      "|R3MFI5JTNYZCFG|   50003969|B00FF4AAS8|     741120886| 2015-08-27|\n",
      "|R3JKRAI8U8BJAI|   13113770|B000BT2FK8|     920283585| 2015-08-27|\n",
      "|R15NKX41PS6HZH|   42311654|B00DRJQZ0K|     292432792| 2015-08-27|\n",
      "| RHO2UKGLG2VWQ|   25540083|B011VZE7DS|     983328866| 2015-08-27|\n",
      "|R2CHA72Y7EXE58|   14719362|B00LZXPJB6|     990457934| 2015-08-25|\n",
      "|R1FAZCDMXP7HWQ|   19756712|B00FUWSU3W|     696946332| 2015-08-25|\n",
      "|R1T2ABSFLTRYWP|   16443254|B00LJUROJ0|     358037182| 2015-08-24|\n",
      "+--------------+-----------+----------+--------------+-----------+\n",
      "only showing top 20 rows\n",
      "\n"
     ]
    }
   ],
   "source": [
    "# Create review dataframe to match review_id_table\n",
    "review_df = cleaned_df.select([\"review_id\", \"customer_id\", \"product_id\", \"product_parent\", \"review_date\"])\n",
    "review_df.show()"
   ]
  },
  {
   "cell_type": "code",
   "execution_count": 45,
   "metadata": {
    "colab": {
     "base_uri": "https://localhost:8080/",
     "height": 459
    },
    "colab_type": "code",
    "executionInfo": {
     "elapsed": 7289,
     "status": "ok",
     "timestamp": 1600592608274,
     "user": {
      "displayName": "Catie Aznoe",
      "photoUrl": "https://lh3.googleusercontent.com/a-/AOh14Gh4BBdbbgd8vf12rxJpg5MMmE_GVCa4ucNWBnAh=s64",
      "userId": "03339423933263314979"
     },
     "user_tz": -180
    },
    "id": "Rm35z_tiPS8e",
    "outputId": "3f4c82e5-6e26-4993-a992-5c8fbf250141"
   },
   "outputs": [
    {
     "name": "stdout",
     "output_type": "stream",
     "text": [
      "+----------+--------------------+\n",
      "|product_id|       product_title|\n",
      "+----------+--------------------+\n",
      "|B002B3FWXY|Travelon Anti-The...|\n",
      "|B000YB7T04|totes Signature C...|\n",
      "|B00F9KE912|Samsonite Wheeled...|\n",
      "|B001CDG7Q0|17 Inch Gray Whee...|\n",
      "|B0019GAOO6| Everest Hiking Pack|\n",
      "|B00YGDX2XE|MEKU PU leather P...|\n",
      "|B00KH5FB5W|Ever Moda Designe...|\n",
      "|B00JKJQJHA|Dot&Dot Travel Ac...|\n",
      "|B00WJJVXQU|17\" Red & Black M...|\n",
      "|B006GN4ERU|Olympia Deluxe Fa...|\n",
      "|B00Z9NV81I|SENPAIC Canvas La...|\n",
      "|B001TQTWGW|Travelon Anti-The...|\n",
      "|B009AZ69V0|Traveler's Choice...|\n",
      "|B00FF4AAS8|HOVEOX Stylish Me...|\n",
      "|B000BT2FK8|Royce Leather Lux...|\n",
      "|B00DRJQZ0K|Reinforced Design...|\n",
      "|B011VZE7DS|Monster Trucks Ba...|\n",
      "|B00LZXPJB6|Canvas 15\" Laptop...|\n",
      "|B00FUWSU3W|Bago Travel Duffe...|\n",
      "|B00LJUROJ0|Travelpro Infligh...|\n",
      "+----------+--------------------+\n",
      "only showing top 20 rows\n",
      "\n"
     ]
    }
   ],
   "source": [
    "# Create products dataframe to match products table\n",
    "products_df = cleaned_df.select([\"product_id\", \"product_title\"])\n",
    "products_df.show()"
   ]
  },
  {
   "cell_type": "code",
   "execution_count": 46,
   "metadata": {
    "colab": {},
    "colab_type": "code",
    "executionInfo": {
     "elapsed": 1181,
     "status": "ok",
     "timestamp": 1600592613186,
     "user": {
      "displayName": "Catie Aznoe",
      "photoUrl": "https://lh3.googleusercontent.com/a-/AOh14Gh4BBdbbgd8vf12rxJpg5MMmE_GVCa4ucNWBnAh=s64",
      "userId": "03339423933263314979"
     },
     "user_tz": -180
    },
    "id": "LMF_nKqtQ2Jw"
   },
   "outputs": [],
   "source": [
    "# Drop duplicates to keep only unique values\n",
    "products_df = products_df.dropDuplicates()"
   ]
  },
  {
   "cell_type": "code",
   "execution_count": 47,
   "metadata": {
    "colab": {
     "base_uri": "https://localhost:8080/",
     "height": 459
    },
    "colab_type": "code",
    "executionInfo": {
     "elapsed": 7403,
     "status": "ok",
     "timestamp": 1600592636613,
     "user": {
      "displayName": "Catie Aznoe",
      "photoUrl": "https://lh3.googleusercontent.com/a-/AOh14Gh4BBdbbgd8vf12rxJpg5MMmE_GVCa4ucNWBnAh=s64",
      "userId": "03339423933263314979"
     },
     "user_tz": -180
    },
    "id": "VwVsGYiUXw4m",
    "outputId": "609f387c-3582-4701-dca1-6555ffa88f7d"
   },
   "outputs": [
    {
     "name": "stdout",
     "output_type": "stream",
     "text": [
      "+--------------+-----------+-------------+-----------+----+\n",
      "|     review_id|star_rating|helpful_votes|total_votes|vine|\n",
      "+--------------+-----------+-------------+-----------+----+\n",
      "|R11IBSD5E6HPSD|          1|           29|         31|   N|\n",
      "|R16F6MZAVR1IYL|          4|            0|          0|   N|\n",
      "|R30889FXLP48F3|          5|            1|          1|   N|\n",
      "|R1DW06GLTNCVWQ|          5|            0|          0|   N|\n",
      "| RDC197RTSTZJY|          4|            0|          0|   N|\n",
      "|R3D44CQ92OA3BR|          5|            0|          0|   N|\n",
      "|R115NO9WEEUBWD|          4|            1|          1|   N|\n",
      "|R16QUOK50Y94JU|          5|            0|          0|   N|\n",
      "| R1P81BC6VL7PZ|          4|            0|          0|   N|\n",
      "| RZZLHN9MWIAEJ|          5|            0|          0|   N|\n",
      "|R1A75HAI9Q04WV|          1|            8|          9|   N|\n",
      "|R1PCHIM41UIET7|          3|            0|          0|   N|\n",
      "|R2S1PWOTIMYQ29|          5|            0|          1|   N|\n",
      "|R3MFI5JTNYZCFG|          5|            0|          0|   N|\n",
      "|R3JKRAI8U8BJAI|          4|            0|          0|   N|\n",
      "|R15NKX41PS6HZH|          5|            0|          0|   N|\n",
      "| RHO2UKGLG2VWQ|          5|            1|          1|   N|\n",
      "|R2CHA72Y7EXE58|          5|            0|          0|   N|\n",
      "|R1FAZCDMXP7HWQ|          5|            0|          0|   N|\n",
      "|R1T2ABSFLTRYWP|          4|            0|          0|   N|\n",
      "+--------------+-----------+-------------+-----------+----+\n",
      "only showing top 20 rows\n",
      "\n"
     ]
    }
   ],
   "source": [
    "# Create vine dataframe to match vine_table\n",
    "vine_df = cleaned_df.select([\"review_id\", \"star_rating\", \"helpful_votes\", \"total_votes\", \"vine\"])\n",
    "vine_df.show()"
   ]
  },
  {
   "cell_type": "code",
   "execution_count": 48,
   "metadata": {
    "colab": {
     "base_uri": "https://localhost:8080/",
     "height": 459
    },
    "colab_type": "code",
    "executionInfo": {
     "elapsed": 15596,
     "status": "ok",
     "timestamp": 1600592659599,
     "user": {
      "displayName": "Catie Aznoe",
      "photoUrl": "https://lh3.googleusercontent.com/a-/AOh14Gh4BBdbbgd8vf12rxJpg5MMmE_GVCa4ucNWBnAh=s64",
      "userId": "03339423933263314979"
     },
     "user_tz": -180
    },
    "id": "MCVtNHOLTA4r",
    "outputId": "981325cb-c9dd-4b11-8086-6d0c5d83ff9c"
   },
   "outputs": [
    {
     "name": "stdout",
     "output_type": "stream",
     "text": [
      "+-----------+--------------+\n",
      "|customer_id|customer_count|\n",
      "+-----------+--------------+\n",
      "|   47535771|             3|\n",
      "|   13112909|             1|\n",
      "|    4792279|             1|\n",
      "|   32206659|             3|\n",
      "|   19937450|             1|\n",
      "|   39921618|             1|\n",
      "|   40235161|             1|\n",
      "|   16038309|             1|\n",
      "|   11480681|             1|\n",
      "|   32298977|             1|\n",
      "|   29078265|             1|\n",
      "|   18869492|             4|\n",
      "|   11361633|             2|\n",
      "|   11150260|             1|\n",
      "|   51160127|             1|\n",
      "|   24122316|             1|\n",
      "|    1980278|             1|\n",
      "|   43742600|             2|\n",
      "|   46072848|             1|\n",
      "|   14571094|             1|\n",
      "+-----------+--------------+\n",
      "only showing top 20 rows\n",
      "\n"
     ]
    }
   ],
   "source": [
    "# Create Customer count dataframe to match customers table\n",
    "import pyspark.sql.functions as f\n",
    "\n",
    "customer_count_df = cleaned_df.groupBy('customer_id').count().select('customer_id', f.col('count').alias('customer_count')).show()\n",
    "\n"
   ]
  },
  {
   "cell_type": "code",
   "execution_count": 30,
   "metadata": {
    "colab": {},
    "colab_type": "code",
    "executionInfo": {
     "elapsed": 1402,
     "status": "ok",
     "timestamp": 1600590474034,
     "user": {
      "displayName": "Catie Aznoe",
      "photoUrl": "https://lh3.googleusercontent.com/a-/AOh14Gh4BBdbbgd8vf12rxJpg5MMmE_GVCa4ucNWBnAh=s64",
      "userId": "03339423933263314979"
     },
     "user_tz": -180
    },
    "id": "yGEn3Kw8aEJc"
   },
   "outputs": [],
   "source": [
    "# Configure settings for RDS\n",
    "mode = \"append\"\n",
    "jdbc_url=\"jdbc:postgresql://reviews-challenge.cos0wnwxlodh.us-east-2.rds.amazonaws.com:5432/reviews_db\"\n",
    "config = {\"user\":\"postgres\", \n",
    "          \"password\": \"XXXXXXXX\", \n",
    "          \"driver\":\"org.postgresql.Driver\"}"
   ]
  },
  {
   "cell_type": "code",
   "execution_count": null,
   "metadata": {
    "colab": {},
    "colab_type": "code",
    "id": "5TVPV9nwkECM"
   },
   "outputs": [],
   "source": [
    "# Write DataFrame to customers table in RDS\n",
    "customer_count_df.write.jdbc(url=jdbc_url, table='customers', mode=mode, properties=config)"
   ]
  },
  {
   "cell_type": "code",
   "execution_count": 50,
   "metadata": {
    "colab": {},
    "colab_type": "code",
    "executionInfo": {
     "elapsed": 374680,
     "status": "ok",
     "timestamp": 1600593054996,
     "user": {
      "displayName": "Catie Aznoe",
      "photoUrl": "https://lh3.googleusercontent.com/a-/AOh14Gh4BBdbbgd8vf12rxJpg5MMmE_GVCa4ucNWBnAh=s64",
      "userId": "03339423933263314979"
     },
     "user_tz": -180
    },
    "id": "pT3M7Kj4qmEi"
   },
   "outputs": [],
   "source": [
    "# Write DataFrame to review_id_table in RDS\n",
    "review_df.write.jdbc(url=jdbc_url, table='review_id_table', mode=mode, properties=config)"
   ]
  },
  {
   "cell_type": "code",
   "execution_count": null,
   "metadata": {
    "colab": {},
    "colab_type": "code",
    "id": "bqWGhD-IyAf4"
   },
   "outputs": [],
   "source": [
    "# Write DataFrame to products table in RDS\n",
    "products_df.write.jdbc(url=jdbc_url, table='products', mode=mode, properties=config)"
   ]
  },
  {
   "cell_type": "code",
   "execution_count": 52,
   "metadata": {
    "colab": {},
    "colab_type": "code",
    "executionInfo": {
     "elapsed": 361103,
     "status": "ok",
     "timestamp": 1600593761891,
     "user": {
      "displayName": "Catie Aznoe",
      "photoUrl": "https://lh3.googleusercontent.com/a-/AOh14Gh4BBdbbgd8vf12rxJpg5MMmE_GVCa4ucNWBnAh=s64",
      "userId": "03339423933263314979"
     },
     "user_tz": -180
    },
    "id": "EHfFqc7dzFuJ"
   },
   "outputs": [],
   "source": [
    "# Write DataFrame to vine table in RDS\n",
    "vine_df.write.jdbc(url=jdbc_url, table='vine_table', mode=mode, properties=config)"
   ]
  }
 ],
 "metadata": {
  "colab": {
   "authorship_tag": "ABX9TyMe+f4Su5bCR2kt5zcuaP2h",
   "name": "Amazon_Review_Challenge.ipynb",
   "provenance": [
    {
     "file_id": "11lpdC1pG1SfTgAYUf4YoVtcILezxqi3s",
     "timestamp": 1600579416431
    },
    {
     "file_id": "1xNpIxAakOgBsgZpzFN1z60LEfZzrLrEC",
     "timestamp": 1600345243485
    },
    {
     "file_id": "1Cjxf-fN7e2ceSlJaJYVG2_6Uxqub1ElN",
     "timestamp": 1600343942177
    },
    {
     "file_id": "15LsAZHHSZ3-eY2sq1PRIg3UwAfld7i5o",
     "timestamp": 1600337041847
    }
   ]
  },
  "kernelspec": {
   "display_name": "Python 3",
   "language": "python",
   "name": "python3"
  },
  "language_info": {
   "codemirror_mode": {
    "name": "ipython",
    "version": 3
   },
   "file_extension": ".py",
   "mimetype": "text/x-python",
   "name": "python",
   "nbconvert_exporter": "python",
   "pygments_lexer": "ipython3",
   "version": "3.7.6"
  }
 },
 "nbformat": 4,
 "nbformat_minor": 1
}
